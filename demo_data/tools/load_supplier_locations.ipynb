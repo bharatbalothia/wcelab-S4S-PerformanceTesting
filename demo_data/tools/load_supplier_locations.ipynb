{
 "nbformat": 4,
 "nbformat_minor": 2,
 "metadata": {
  "language_info": {
   "name": "python",
   "codemirror_mode": {
    "name": "ipython",
    "version": 3
   },
   "version": "3.7.4-final"
  },
  "orig_nbformat": 2,
  "file_extension": ".py",
  "mimetype": "text/x-python",
  "name": "python",
  "npconvert_exporter": "python",
  "pygments_lexer": "ipython3",
  "version": 3,
  "kernelspec": {
   "name": "python3",
   "display_name": "Python 3"
  }
 },
 "cells": [
  {
   "cell_type": "markdown",
   "metadata": {},
   "source": [
    "# S4S Supplier loading process\n",
    "\n",
    "This program loads supplier to IV (and S4S)\n"
   ],
   "execution_count": null,
   "outputs": []
  },
  {
   "cell_type": "markdown",
   "metadata": {},
   "source": [
    "## Configuration values\n",
    "\n",
    "Configure the values below for \n",
    "\n",
    "- Input data directory\n"
   ],
   "execution_count": null,
   "outputs": []
  },
  {
   "cell_type": "code",
   "execution_count": 5,
   "metadata": {},
   "outputs": [],
   "source": [
    "##############################################################\n",
    "# Configuration values\n",
    "##############################################################\n",
    "\n",
    "import os\n",
    "\n",
    "BEARER_TOKEN    = '0eGbvpQdfFwRczDlUe2OP5a0WUodYPNf'\n",
    "\n",
    "IV_TENANT_ID    = 'eu-87d7c9b0'\n",
    "\n",
    "IV_URL          = \"https://api.watsoncommerce.ibm.com/inventory\"\n",
    "IV_VERSION      = 'v1'\n",
    "\n",
    "OPERATION_URL   = 'configuration/shipNodes'\n",
    "\n",
    "# Data Folder and File Names\n",
    "DATA_SRC_DIR                = '../'\n",
    "\n",
    "\n",
    "# the original inventory data file\n",
    "INPUT_LOCATION_LIST_FILE    = os.path.join(DATA_SRC_DIR, 'rapid_demo_data.xlsx')\n",
    "\n",
    "INPUT_LOCATION_SHEET_NUM    = 4 # 0 bases (starts on 0 if you are not a nerd) number of which sheet\n",
    "\n",
    "INPUT_LOCATION_COLMN        = ['supplier', 'location', 'ignore-desc', 'ignore-gm', 'latitude', 'longitude']"
   ]
  },
  {
   "cell_type": "code",
   "execution_count": 6,
   "metadata": {},
   "outputs": [],
   "source": [
    "import numpy as np\n",
    "import pandas as pd\n",
    "import random\n",
    ""
   ]
  },
  {
   "cell_type": "markdown",
   "metadata": {},
   "source": [
    "## Create test data file\n",
    "\n",
    "1. load original inventory file\n",
    "1. create mapping from original part # to test data's part #\n",
    "1. create mapping from original location to test data's location"
   ],
   "execution_count": null,
   "outputs": []
  },
  {
   "cell_type": "code",
   "execution_count": 7,
   "metadata": {},
   "outputs": [],
   "source": [
    "\n",
    "supplier_location_file = pd.read_excel(INPUT_LOCATION_LIST_FILE,\n",
    "            INPUT_LOCATION_SHEET_NUM, # Read the first worksheet\n",
    "            0, # Header is on row 0 (row 1 in Excel's 1base count)\n",
    "            )\n",
    "\n",
    "supplier_location_file.columns = INPUT_LOCATION_COLMN\n",
    "\n",
    "# supplier_location_file"
   ]
  },
  {
   "cell_type": "markdown",
   "metadata": {},
   "source": [
    "## Create maps"
   ],
   "execution_count": null,
   "outputs": []
  },
  {
   "cell_type": "code",
   "execution_count": 8,
   "metadata": {},
   "outputs": [
    {
     "output_type": "stream",
     "name": "stdout",
     "text": "KC::DALLAS  :  b''\nKC::FAIRFIELD  :  b''\nKC::LOSANGELES  :  b''\nKC::SANFRANCISCO  :  b''\nKC::VISTA  :  b''\nKC::SANJOSE  :  b''\n3M::Decatur  :  b''\n3M::Guin  :  b''\n3M::Little Rock  :  b''\n3M::Corona  :  b''\n3M::Irvine  :  b''\n3M::Monrovia  :  b''\n3M::Northridge  :  b''\n3M::Newark  :  b''\n3M::Cordova  :  b''\n3M::DeKalb  :  b''\n3M::Hartford City  :  b''\n3M::Indianapolis  :  b''\n3M::Ames  :  b''\n3M::Knoxville  :  b''\n3M::Cynthiana  :  b''\n3M::Chelmsford  :  b''\n3M::Columbia  :  b''\nCVS::NJ Lumberton  :  b''\nCVS::CA - La Habra  :  b''\nCVS::CA - Patterson  :  b''\nCVS::FL - Orlando  :  b''\nCVS::FL - Vero Beach  :  b''\nCVS::IN - Indianapolis  :  b''\nCVS::RI - Woonsocket  :  b''\n"
    }
   ],
   "source": [
    "import requests\n",
    "from util.nzutil_url import join_url_fragements\n",
    "\n",
    "headers = {\n",
    "  'Authorization': 'Bearer ' + BEARER_TOKEN,\n",
    "  'Content-Type': 'application/json'\n",
    "}\n",
    "\n",
    "def setup_supplier_location_iv(supplier: pd.DataFrame, url_base: str):\n",
    "\n",
    "    # print(\"supplier\", supplier)\n",
    "    # print(\"url_base\", url_base)\n",
    "\n",
    "    # Construct shipnode with supplier name and location\n",
    "    shipnode = supplier['supplier'] + \"::\" + supplier['location']\n",
    "\n",
    "    url = join_url_fragements(url_base, shipnode)\n",
    "\n",
    "    payload = \"{{\\\"latitude\\\": {}, \\\"longitude\\\": {} }}\".format(supplier['latitude'], supplier['longitude'])\n",
    "\n",
    "    # print (\"\\nPUT\", url, \"\\n\", headers, '\\n', payload, '\\n********************************************************')\n",
    "\n",
    "    \n",
    "    response = requests.request(\"PUT\", url, headers=headers, data = payload)\n",
    "    print(shipnode, \" : \", response.text.encode('utf8'))\n",
    "\n",
    "url_base = join_url_fragements(IV_URL, IV_TENANT_ID, IV_VERSION, OPERATION_URL)\n",
    "\n",
    "nothing = supplier_location_file.apply(\n",
    "    setup_supplier_location_iv,\n",
    "    axis=1,\n",
    "    args=(url_base,)\n",
    ")\n",
    "\n",
    "\n",
    ""
   ]
  }
 ]
}